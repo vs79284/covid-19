{
  "cells": [
    {
      "cell_type": "markdown",
      "metadata": {
        "id": "view-in-github",
        "colab_type": "text"
      },
      "source": [
        "<a href=\"https://colab.research.google.com/github/vs79284/covid-19/blob/master/covid_19_detection_using_chest_x_ray.ipynb\" target=\"_parent\"><img src=\"https://colab.research.google.com/assets/colab-badge.svg\" alt=\"Open In Colab\"/></a>"
      ]
    },
    {
      "cell_type": "code",
      "execution_count": null,
      "metadata": {
        "colab": {
          "base_uri": "https://localhost:8080/"
        },
        "id": "pY2xVjOkx66U",
        "outputId": "6236ed79-5020-481d-d436-42d1fcadd9cd"
      },
      "outputs": [
        {
          "output_type": "stream",
          "name": "stdout",
          "text": [
            "Drive already mounted at /content/gdrive; to attempt to forcibly remount, call drive.mount(\"/content/gdrive\", force_remount=True).\n"
          ]
        }
      ],
      "source": [
        "import pandas as pd\n",
        "import os\n",
        "import shutil\n",
        "##print(os.listdir(\"/content/gdrive/MyDrive/ms/covid19/Dataset\"))\n",
        "## Mount the google drive \n",
        "from google.colab import drive\n",
        "drive.mount('/content/gdrive')\n",
        "data_path = '/content/gdrive/MyDrive/ms/covid19/Dataset'"
      ]
    },
    {
      "cell_type": "markdown",
      "metadata": {
        "id": "Q9ugDTy7x66Y"
      },
      "source": [
        "# Load Datasets"
      ]
    },
    {
      "cell_type": "code",
      "execution_count": null,
      "metadata": {
        "id": "8F7z14PADOiw"
      },
      "outputs": [],
      "source": [
        "TRAIN_PATH = \"/content/gdrive/MyDrive/ms/covid19/Dataset/Train\"\n",
        "VAL_PATH = \"/content/gdrive/MyDrive/ms/covid19/Dataset/Val\""
      ]
    },
    {
      "cell_type": "markdown",
      "metadata": {
        "id": "OSwvGJwnx66a"
      },
      "source": [
        "# **Importing Required Libraries**"
      ]
    },
    {
      "cell_type": "code",
      "execution_count": null,
      "metadata": {
        "id": "kLbMjKaGEDSX"
      },
      "outputs": [],
      "source": [
        "import numpy as np\n",
        "import matplotlib.pyplot as plt\n",
        "import keras\n",
        "from keras.layers import *\n",
        "from keras.models import *\n",
        "from keras.preprocessing import image"
      ]
    },
    {
      "cell_type": "markdown",
      "metadata": {
        "id": "zFsK_XFhEZwP"
      },
      "source": [
        "# **Building Architecture**\n"
      ]
    },
    {
      "cell_type": "code",
      "execution_count": null,
      "metadata": {
        "id": "nMcRnjckES5E"
      },
      "outputs": [],
      "source": [
        "model = Sequential()\n",
        "model.add(Conv2D(32,kernel_size=(3,3),activation=\"relu\",input_shape=(224,224,3)))\n",
        "\n",
        "model.add(Conv2D(64,(3,3),activation=\"relu\"))\n",
        "model.add(MaxPooling2D(pool_size = (2,2)))\n",
        "model.add(Dropout(0.25))\n",
        "\n",
        "model.add(Conv2D(64,(3,3),activation=\"relu\"))\n",
        "model.add(MaxPooling2D(pool_size=(2,2)))\n",
        "model.add(Dropout(0.25))\n",
        "\n",
        "model.add(Conv2D(128,(3,3),activation=\"relu\"))\n",
        "model.add(MaxPooling2D(pool_size=(2,2)))\n",
        "model.add(Dropout(0.25))\n",
        "\n",
        "model.add(Conv2D(128,(3,3),activation=\"relu\"))\n",
        "model.add(MaxPooling2D(pool_size=(2,2)))\n",
        "model.add(Dropout(0.25))\n",
        "\n",
        "model.add(Flatten())\n",
        "model.add(Dense(64,activation=\"relu\"))\n",
        "model.add(Dropout(0.5))\n",
        "\n",
        "model.add(Dense(1,activation=\"sigmoid\"))\n",
        "\n",
        "model.compile(loss=keras.losses.binary_crossentropy,optimizer = \"adam\",metrics=[\"accuracy\"])\n"
      ]
    },
    {
      "cell_type": "code",
      "execution_count": null,
      "metadata": {
        "colab": {
          "base_uri": "https://localhost:8080/"
        },
        "id": "k81GqhjJIDnE",
        "outputId": "544144f5-e315-4bc9-d203-36bb89bd59ee"
      },
      "outputs": [
        {
          "output_type": "stream",
          "name": "stdout",
          "text": [
            "Model: \"sequential_2\"\n",
            "_________________________________________________________________\n",
            " Layer (type)                Output Shape              Param #   \n",
            "=================================================================\n",
            " conv2d_10 (Conv2D)          (None, 222, 222, 32)      896       \n",
            "                                                                 \n",
            " conv2d_11 (Conv2D)          (None, 220, 220, 64)      18496     \n",
            "                                                                 \n",
            " max_pooling2d_8 (MaxPooling  (None, 110, 110, 64)     0         \n",
            " 2D)                                                             \n",
            "                                                                 \n",
            " dropout_10 (Dropout)        (None, 110, 110, 64)      0         \n",
            "                                                                 \n",
            " conv2d_12 (Conv2D)          (None, 108, 108, 64)      36928     \n",
            "                                                                 \n",
            " max_pooling2d_9 (MaxPooling  (None, 54, 54, 64)       0         \n",
            " 2D)                                                             \n",
            "                                                                 \n",
            " dropout_11 (Dropout)        (None, 54, 54, 64)        0         \n",
            "                                                                 \n",
            " conv2d_13 (Conv2D)          (None, 52, 52, 128)       73856     \n",
            "                                                                 \n",
            " max_pooling2d_10 (MaxPoolin  (None, 26, 26, 128)      0         \n",
            " g2D)                                                            \n",
            "                                                                 \n",
            " dropout_12 (Dropout)        (None, 26, 26, 128)       0         \n",
            "                                                                 \n",
            " conv2d_14 (Conv2D)          (None, 24, 24, 128)       147584    \n",
            "                                                                 \n",
            " max_pooling2d_11 (MaxPoolin  (None, 12, 12, 128)      0         \n",
            " g2D)                                                            \n",
            "                                                                 \n",
            " dropout_13 (Dropout)        (None, 12, 12, 128)       0         \n",
            "                                                                 \n",
            " flatten_2 (Flatten)         (None, 18432)             0         \n",
            "                                                                 \n",
            " dense_4 (Dense)             (None, 64)                1179712   \n",
            "                                                                 \n",
            " dropout_14 (Dropout)        (None, 64)                0         \n",
            "                                                                 \n",
            " dense_5 (Dense)             (None, 1)                 65        \n",
            "                                                                 \n",
            "=================================================================\n",
            "Total params: 1,457,537\n",
            "Trainable params: 1,457,537\n",
            "Non-trainable params: 0\n",
            "_________________________________________________________________\n"
          ]
        }
      ],
      "source": [
        "model.summary()"
      ]
    },
    {
      "cell_type": "markdown",
      "metadata": {
        "id": "1UIwIT95JKDU"
      },
      "source": [
        "# **Train From Scratch**"
      ]
    },
    {
      "cell_type": "markdown",
      "metadata": {
        "id": "I891z3NPx66e"
      },
      "source": [
        "## *Data Augmentation*"
      ]
    },
    {
      "cell_type": "code",
      "execution_count": null,
      "metadata": {
        "id": "lt8si8MKIaUM"
      },
      "outputs": [],
      "source": [
        "train_datagen = image.ImageDataGenerator(\n",
        "    rescale = 1./255,\n",
        "    shear_range = 0.2,\n",
        "    zoom_range = 0.2,\n",
        "    horizontal_flip = True,\n",
        ")\n",
        "test_dataset = image.ImageDataGenerator(rescale = 1./255)\n"
      ]
    },
    {
      "cell_type": "code",
      "execution_count": null,
      "metadata": {
        "colab": {
          "base_uri": "https://localhost:8080/"
        },
        "id": "ikdogu6GJ06S",
        "outputId": "cb8f9db0-ceb4-4bdd-c3af-f194a5862ea3"
      },
      "outputs": [
        {
          "output_type": "stream",
          "name": "stdout",
          "text": [
            "Found 288 images belonging to 2 classes.\n"
          ]
        }
      ],
      "source": [
        "train_generator = train_datagen.flow_from_directory(\n",
        "    '/content/gdrive/MyDrive/ms/covid19/Dataset/Train',\n",
        "    target_size = (224,224),\n",
        "    batch_size = 32,\n",
        "    class_mode = 'binary'\n",
        ")"
      ]
    },
    {
      "cell_type": "code",
      "execution_count": null,
      "metadata": {
        "colab": {
          "base_uri": "https://localhost:8080/"
        },
        "id": "j37uuWU3KPM4",
        "outputId": "d8ec1ab2-8547-477c-fc5c-9a7783455546"
      },
      "outputs": [
        {
          "output_type": "execute_result",
          "data": {
            "text/plain": [
              "{'Covid': 0, 'Normal': 1}"
            ]
          },
          "metadata": {},
          "execution_count": 77
        }
      ],
      "source": [
        "train_generator.class_indices"
      ]
    },
    {
      "cell_type": "code",
      "execution_count": null,
      "metadata": {
        "colab": {
          "base_uri": "https://localhost:8080/"
        },
        "id": "eln76WRWKYvB",
        "outputId": "b643d70b-72dd-4a86-d350-e3200b01ba02"
      },
      "outputs": [
        {
          "output_type": "stream",
          "name": "stdout",
          "text": [
            "Found 60 images belonging to 2 classes.\n"
          ]
        }
      ],
      "source": [
        "validation_generator = test_dataset.flow_from_directory(\n",
        "    '/content/gdrive/MyDrive/ms/covid19/Dataset/Val',\n",
        "    target_size = (224,224),\n",
        "    batch_size = 32,\n",
        "    class_mode = 'binary'\n",
        ")"
      ]
    },
    {
      "cell_type": "markdown",
      "metadata": {
        "id": "-aTx5Aswx66g"
      },
      "source": [
        "# **Fit The Model**"
      ]
    },
    {
      "cell_type": "code",
      "execution_count": null,
      "metadata": {
        "colab": {
          "base_uri": "https://localhost:8080/"
        },
        "id": "bJD_HDI3LOML",
        "outputId": "75efc7db-613a-4ec9-e9e4-a4f07f518cee"
      },
      "outputs": [
        {
          "output_type": "stream",
          "name": "stdout",
          "text": [
            "Epoch 1/10\n",
            "8/8 [==============================] - 92s 11s/step - loss: 0.8847 - accuracy: 0.5195 - val_loss: 0.6929 - val_accuracy: 0.5000\n",
            "Epoch 2/10\n",
            "8/8 [==============================] - 89s 11s/step - loss: 0.6871 - accuracy: 0.5859 - val_loss: 0.6880 - val_accuracy: 0.8833\n",
            "Epoch 3/10\n",
            "8/8 [==============================] - 89s 11s/step - loss: 0.6162 - accuracy: 0.6562 - val_loss: 0.5316 - val_accuracy: 0.9833\n",
            "Epoch 4/10\n",
            "8/8 [==============================] - 89s 11s/step - loss: 0.3990 - accuracy: 0.8203 - val_loss: 0.2384 - val_accuracy: 0.9833\n",
            "Epoch 5/10\n",
            "8/8 [==============================] - 89s 11s/step - loss: 0.3189 - accuracy: 0.8359 - val_loss: 0.2630 - val_accuracy: 0.9833\n",
            "Epoch 6/10\n",
            "8/8 [==============================] - 87s 11s/step - loss: 0.2483 - accuracy: 0.9297 - val_loss: 0.2326 - val_accuracy: 0.9833\n",
            "Epoch 7/10\n",
            "8/8 [==============================] - 89s 11s/step - loss: 0.2794 - accuracy: 0.8867 - val_loss: 0.2289 - val_accuracy: 0.9833\n",
            "Epoch 8/10\n",
            "8/8 [==============================] - 89s 11s/step - loss: 0.2980 - accuracy: 0.9062 - val_loss: 0.2264 - val_accuracy: 0.9500\n",
            "Epoch 9/10\n",
            "8/8 [==============================] - 89s 11s/step - loss: 0.2547 - accuracy: 0.9336 - val_loss: 0.1746 - val_accuracy: 0.9833\n",
            "Epoch 10/10\n",
            "8/8 [==============================] - 89s 11s/step - loss: 0.2214 - accuracy: 0.9297 - val_loss: 0.1302 - val_accuracy: 0.9833\n"
          ]
        }
      ],
      "source": [
        "hist = model.fit(\n",
        "    train_generator,\n",
        "    steps_per_epoch = 8,\n",
        "    epochs = 10,\n",
        "    validation_data = validation_generator,\n",
        "    validation_steps = 2\n",
        ")"
      ]
    },
    {
      "cell_type": "markdown",
      "metadata": {
        "id": "F109fnZmV42P"
      },
      "source": [
        "## *Loss is very less and accuracy is on point*"
      ]
    },
    {
      "cell_type": "code",
      "execution_count": null,
      "metadata": {
        "id": "xGcBDThIL-p8"
      },
      "outputs": [],
      "source": [
        "model.save(\"Detection_Covid_19.h5\")"
      ]
    },
    {
      "cell_type": "code",
      "execution_count": null,
      "metadata": {
        "id": "qEfEw0JgVhyB"
      },
      "outputs": [],
      "source": [
        "# model.evaluate_generator(train_generator)"
      ]
    },
    {
      "cell_type": "code",
      "execution_count": null,
      "metadata": {
        "id": "i5l_dGt6VmzI"
      },
      "outputs": [],
      "source": [
        "# model.evaluate_generator(validation_generator)"
      ]
    },
    {
      "cell_type": "markdown",
      "metadata": {
        "id": "BPVdV0CGV_Tp"
      },
      "source": [
        "# **Test Images**"
      ]
    },
    {
      "cell_type": "code",
      "execution_count": null,
      "metadata": {
        "id": "WpINfswbVyM_"
      },
      "outputs": [],
      "source": [
        "model = load_model(\"Detection_Covid_19.h5\")"
      ]
    },
    {
      "cell_type": "code",
      "execution_count": null,
      "metadata": {
        "id": "EqZ6D07_WRNE"
      },
      "outputs": [],
      "source": [
        "import os"
      ]
    },
    {
      "cell_type": "code",
      "execution_count": null,
      "metadata": {
        "colab": {
          "base_uri": "https://localhost:8080/"
        },
        "id": "RgtgamSQWUZj",
        "outputId": "b10bc29d-c31b-4357-dd9f-16190e726359"
      },
      "outputs": [
        {
          "output_type": "execute_result",
          "data": {
            "text/plain": [
              "{'Covid': 0, 'Normal': 1}"
            ]
          },
          "metadata": {},
          "execution_count": 85
        }
      ],
      "source": [
        "train_generator.class_indices"
      ]
    },
    {
      "cell_type": "markdown",
      "metadata": {
        "id": "noVZbvwNx66j"
      },
      "source": [
        "# **Confusion Matrix**"
      ]
    },
    {
      "cell_type": "code",
      "execution_count": null,
      "metadata": {
        "id": "8WtXLdRLWXed"
      },
      "outputs": [],
      "source": [
        "y_actual = []\n",
        "y_test = []"
      ]
    },
    {
      "cell_type": "code",
      "execution_count": null,
      "metadata": {
        "id": "WW1UC4qrWacp"
      },
      "outputs": [],
      "source": [
        "for i in os.listdir(\"/content/gdrive/MyDrive/ms/covid19/Dataset/Val/Normal\"):\n",
        "  img = image.load_img(\"/content/gdrive/MyDrive/ms/covid19/Dataset/Val/Normal/\"+i,target_size=(224,224))\n",
        "  img = image.img_to_array(img)\n",
        "  img = np.expand_dims(img,axis=0)\n",
        "  p = (model.predict(img) > 0.5).astype(\"int32\")\n",
        "  y_test.append(p[0,0])\n",
        "  y_actual.append(1)"
      ]
    },
    {
      "cell_type": "code",
      "execution_count": null,
      "metadata": {
        "id": "XwqD0RAKW5ck"
      },
      "outputs": [],
      "source": [
        "for i in os.listdir(\"/content/gdrive/MyDrive/ms/covid19/Dataset/Val/Covid\"):\n",
        "  img = image.load_img(\"/content/gdrive/MyDrive/ms/covid19/Dataset/Val/Covid/\"+i,target_size=(224,224))\n",
        "  img = image.img_to_array(img)\n",
        "  img = np.expand_dims(img,axis=0)\n",
        "  p = (model.predict(img) > 0.5).astype(\"int32\")\n",
        "  y_test.append(p[0,0])\n",
        "  y_actual.append(0)"
      ]
    },
    {
      "cell_type": "code",
      "execution_count": null,
      "metadata": {
        "id": "5NuoneYpXEd7"
      },
      "outputs": [],
      "source": [
        "y_actual = np.array(y_actual)\n",
        "y_test = np.array(y_test)"
      ]
    },
    {
      "cell_type": "code",
      "execution_count": null,
      "metadata": {
        "id": "nv58xeJfXKq9"
      },
      "outputs": [],
      "source": [
        "from sklearn.metrics import confusion_matrix"
      ]
    },
    {
      "cell_type": "code",
      "execution_count": null,
      "metadata": {
        "id": "eMqgZfGxICbA",
        "colab": {
          "base_uri": "https://localhost:8080/"
        },
        "outputId": "1b1ef0fd-90c6-4ed6-d015-f9db73b9a91a"
      },
      "outputs": [
        {
          "output_type": "execute_result",
          "data": {
            "text/plain": [
              "array([1, 1, 1, 1, 1, 1, 1, 1, 1, 1, 1, 1, 1, 1, 1, 1, 1, 1, 1, 1, 1, 1,\n",
              "       1, 1, 1, 1, 1, 1, 1, 1, 0, 0, 0, 0, 0, 0, 0, 0, 0, 0, 0, 0, 0, 0,\n",
              "       0, 0, 0, 0, 0, 0, 0, 0, 0, 0, 0, 0, 0, 0, 0, 0])"
            ]
          },
          "metadata": {},
          "execution_count": 91
        }
      ],
      "source": [
        "y_actual\n"
      ]
    },
    {
      "cell_type": "code",
      "execution_count": null,
      "metadata": {
        "id": "mFvDwsPQIFNE",
        "colab": {
          "base_uri": "https://localhost:8080/"
        },
        "outputId": "87b7d9ac-ac98-4397-829f-5f2adf4c91e1"
      },
      "outputs": [
        {
          "output_type": "execute_result",
          "data": {
            "text/plain": [
              "array([1, 1, 1, 1, 1, 1, 1, 1, 1, 1, 1, 1, 1, 1, 1, 1, 1, 1, 1, 1, 1, 1,\n",
              "       1, 1, 1, 1, 1, 1, 1, 1, 0, 0, 0, 0, 0, 0, 0, 1, 0, 0, 0, 0, 0, 1,\n",
              "       1, 0, 0, 0, 0, 1, 0, 0, 1, 0, 0, 0, 0, 0, 0, 0], dtype=int32)"
            ]
          },
          "metadata": {},
          "execution_count": 92
        }
      ],
      "source": [
        "y_test"
      ]
    },
    {
      "cell_type": "code",
      "execution_count": null,
      "metadata": {
        "id": "BlRsMa76XQkh"
      },
      "outputs": [],
      "source": [
        "cm = confusion_matrix(y_actual,y_test)"
      ]
    },
    {
      "cell_type": "code",
      "execution_count": null,
      "metadata": {
        "id": "FliAEEsVXWac"
      },
      "outputs": [],
      "source": [
        "import seaborn as sns"
      ]
    },
    {
      "cell_type": "code",
      "execution_count": null,
      "metadata": {
        "id": "Ww0pt8kKXaCE",
        "scrolled": true
      },
      "outputs": [],
      "source": [
        "# sns.heatmap(cm,cmap = \"plasma\" , annot=True)"
      ]
    },
    {
      "cell_type": "code",
      "execution_count": null,
      "metadata": {
        "id": "Y1TdK1INx66l"
      },
      "outputs": [],
      "source": [
        "import itertools\n",
        "import numpy as np\n",
        "import matplotlib.pyplot as plt\n",
        "from sklearn.metrics import confusion_matrix\n",
        "class_names = [\"Covid-19\",\"Normal\"]\n",
        "\n",
        "def plot_confusion_matrix(cm, classes,\n",
        "                          normalize=False,\n",
        "                          title='Confusion matrix',\n",
        "                          cmap=\"plasma\"):\n",
        "    \"\"\"\n",
        "    This function prints and plots the confusion matrix.\n",
        "    Normalization can be applied by setting `normalize=True`.\n",
        "    \"\"\"\n",
        "    plt.imshow(cm, interpolation='nearest', cmap=cmap)\n",
        "    plt.title(title)\n",
        "    plt.colorbar()\n",
        "    tick_marks = np.arange(len(classes))\n",
        "    plt.xticks(tick_marks, classes, rotation=45)\n",
        "    plt.yticks(tick_marks, classes)\n",
        "\n",
        "    if normalize:\n",
        "        cm = cm.astype('float') / cm.sum(axis=1)[:, np.newaxis]\n",
        "        print(\"Normalized confusion matrix\")\n",
        "    else:\n",
        "        print('Confusion matrix, without normalization')\n",
        "\n",
        "    print(cm)\n",
        "\n",
        "    thresh = cm.max() / 2.\n",
        "    for i, j in itertools.product(range(cm.shape[0]), range(cm.shape[1])):\n",
        "        plt.text(j, i, cm[i, j],\n",
        "                 horizontalalignment=\"center\",\n",
        "                 color=\"white\" if cm[i, j] > thresh else \"black\")\n",
        "\n",
        "    plt.tight_layout()\n",
        "    plt.ylabel('True label')\n",
        "    plt.xlabel('Predicted label')"
      ]
    },
    {
      "cell_type": "markdown",
      "metadata": {
        "id": "AMKX6IMNx66m"
      },
      "source": [
        "## ***Confusion Matrix***"
      ]
    },
    {
      "cell_type": "code",
      "execution_count": null,
      "metadata": {
        "id": "LxvO_sYex66m",
        "colab": {
          "base_uri": "https://localhost:8080/",
          "height": 364
        },
        "outputId": "11ee4411-1973-4724-fc84-13be65f9051d"
      },
      "outputs": [
        {
          "output_type": "stream",
          "name": "stdout",
          "text": [
            "Confusion matrix, without normalization\n",
            "[[25  5]\n",
            " [ 0 30]]\n"
          ]
        },
        {
          "output_type": "display_data",
          "data": {
            "text/plain": [
              "<Figure size 432x288 with 2 Axes>"
            ],
            "image/png": "[encoded data removed]"
          },
          "metadata": {
            "needs_background": "light"
          }
        }
      ],
      "source": [
        "plt.figure()\n",
        "plot_confusion_matrix(cm, classes=class_names,\n",
        "                      title='Confusion matrix for Covid-19 Detection',cmap=\"plasma\")\n"
      ]
    },
    {
      "cell_type": "markdown",
      "metadata": {
        "id": "IGxj4qh2x66m"
      },
      "source": [
        "# **List all data in history**"
      ]
    },
    {
      "cell_type": "code",
      "execution_count": null,
      "metadata": {
        "id": "A3bmtDJox66m",
        "colab": {
          "base_uri": "https://localhost:8080/"
        },
        "outputId": "58c9be6d-a892-4734-d2fb-81a6647656bb"
      },
      "outputs": [
        {
          "output_type": "stream",
          "name": "stdout",
          "text": [
            "dict_keys(['loss', 'accuracy', 'val_loss', 'val_accuracy'])\n"
          ]
        }
      ],
      "source": [
        "\n",
        "history = hist\n",
        "print(history.history.keys())"
      ]
    },
    {
      "cell_type": "markdown",
      "metadata": {
        "id": "ocogpYGix66n"
      },
      "source": [
        "# **Summarize history for accuracy**"
      ]
    },
    {
      "cell_type": "code",
      "execution_count": null,
      "metadata": {
        "id": "SnM_cZT9x66n",
        "colab": {
          "base_uri": "https://localhost:8080/",
          "height": 295
        },
        "outputId": "72a79bf2-47a6-48c9-df8a-9de3570f6c86"
      },
      "outputs": [
        {
          "output_type": "display_data",
          "data": {
            "text/plain": [
              "<Figure size 432x288 with 1 Axes>"
            ],
            "image/png": "[encoded data removed]"
          },
          "metadata": {
            "needs_background": "light"
          }
        }
      ],
      "source": [
        "\n",
        "plt.plot(history.history['accuracy'])\n",
        "plt.plot(history.history['val_accuracy'])\n",
        "plt.title('model accuracy')\n",
        "plt.ylabel('accuracy')\n",
        "plt.xlabel('epoch')\n",
        "plt.legend(['train', 'test'], loc='upper left')\n",
        "plt.show()\n"
      ]
    },
    {
      "cell_type": "markdown",
      "metadata": {
        "id": "Bu5CEjmRx66n"
      },
      "source": [
        "# **Summarize history for loss**"
      ]
    },
    {
      "cell_type": "code",
      "execution_count": null,
      "metadata": {
        "id": "Vt9fPLOSx66n",
        "colab": {
          "base_uri": "https://localhost:8080/",
          "height": 295
        },
        "outputId": "925157a9-11b2-4e31-af87-1e481da2d18f"
      },
      "outputs": [
        {
          "output_type": "display_data",
          "data": {
            "text/plain": [
              "<Figure size 432x288 with 1 Axes>"
            ],
            "image/png": "[encoded data removed]"
          },
          "metadata": {
            "needs_background": "light"
          }
        }
      ],
      "source": [
        "\n",
        "plt.plot(history.history['loss'])\n",
        "plt.plot(history.history['val_loss'])\n",
        "plt.title('model loss')\n",
        "plt.ylabel('loss')\n",
        "plt.xlabel('epoch')\n",
        "plt.legend(['train', 'test'], loc='upper left')\n",
        "plt.show()"
      ]
    },
    {
      "cell_type": "markdown",
      "metadata": {
        "id": "9jXc3qtyc-iv"
      },
      "source": [
        "# **Predictions from X-Ray Images**"
      ]
    },
    {
      "cell_type": "code",
      "execution_count": null,
      "metadata": {
        "id": "nnRGu4QHXhSZ",
        "colab": {
          "base_uri": "https://localhost:8080/"
        },
        "outputId": "5946012a-4cd9-44fd-cad7-572e708cf861"
      },
      "outputs": [
        {
          "output_type": "stream",
          "name": "stdout",
          "text": [
            "This Xray Image is of positive covid-19 patient\n",
            "Prediction Of Our Model :  Negative for Covid-19\n"
          ]
        }
      ],
      "source": [
        "import numpy as np\n",
        "# from google.colab.patches import cv2_imshow\n",
        "import cv2\n",
        "from keras.preprocessing import image\n",
        "xtest_image = image.load_img('/content/gdrive/MyDrive/ms/covid19/Dataset/Prediction/ryct.2020200034.fig5-day7.jpeg', target_size = (224, 224))\n",
        "xtest_image = image.img_to_array(xtest_image)\n",
        "xtest_image = np.expand_dims(xtest_image, axis = 0)\n",
        "results = model.predict(xtest_image)\n",
        "# training_set.class_indices\n",
        "imggg = cv2.imread('Dataset/Prediction/ryct.2020200034.fig5-day7.jpeg')\n",
        "print(\"This Xray Image is of positive covid-19 patient\")\n",
        "imggg = np.array(imggg)\n",
        "down_width = 400\n",
        "down_height = 400\n",
        "down_points = (down_width, down_height)\n",
        "#imggg = cv2.resize(imggg, 400,400)\n",
        "#plt.imshow(imggg)\n",
        "# cv2_imshow(imggg)\n",
        "# print(results)\n",
        "if results[0][0] == 0:\n",
        "    prediction = 'Positive For Covid-19'\n",
        "else:\n",
        "    prediction = 'Negative for Covid-19'\n",
        "print(\"Prediction Of Our Model : \",prediction)"
      ]
    },
    {
      "cell_type": "code",
      "execution_count": null,
      "metadata": {
        "id": "NWXNaZpWZue6",
        "colab": {
          "base_uri": "https://localhost:8080/"
        },
        "outputId": "3c46e36e-9e30-4a76-bd9e-1b668c37f234"
      },
      "outputs": [
        {
          "output_type": "stream",
          "name": "stdout",
          "text": [
            "[[1.]]\n",
            "Prediction Of Our Model :  Negative for Covid-19\n"
          ]
        }
      ],
      "source": [
        "import numpy as np\n",
        "# from google.colab.patches import cv2_imshow\n",
        "from keras.preprocessing import image\n",
        "xtest_image = image.load_img('/content/gdrive/MyDrive/ms/covid19/Dataset/Prediction/NORMAL2-IM-0354-0001.jpeg', target_size = (224, 224))\n",
        "xtest_image = image.img_to_array(xtest_image)\n",
        "xtest_image = np.expand_dims(xtest_image, axis = 0)\n",
        "results = model.predict(xtest_image)\n",
        "# training_set.class_indices\n",
        "\n",
        "# imggg = cv2.imread('Dataset/Prediction/NORMAL2-IM-0354-0001.jpeg')\n",
        "# print(\"This Xray Image is of Negative covid-19 patient\")\n",
        "# imggg = np.array(imggg)\n",
        "# imggg = cv2.resize(imggg,(400,400))\n",
        "\n",
        "# plt.imshow(imggg)\n",
        "# cv2_imshow(imggg)\n",
        "print(results)\n",
        "if results[0][0] == 0:\n",
        "    prediction = 'Positive For Covid-19'\n",
        "else:\n",
        "    prediction = 'Negative for Covid-19'\n",
        "print(\"Prediction Of Our Model : \",prediction)"
      ]
    }
  ],
  "metadata": {
    "colab": {
      "collapsed_sections": [],
      "name": "covid-19-detection-using-chest-x-ray.ipynb",
      "provenance": [],
      "include_colab_link": true
    },
    "kernelspec": {
      "display_name": "Python 3",
      "language": "python",
      "name": "python3"
    },
    "language_info": {
      "codemirror_mode": {
        "name": "ipython",
        "version": 3
      },
      "file_extension": ".py",
      "mimetype": "text/x-python",
      "name": "python",
      "nbconvert_exporter": "python",
      "pygments_lexer": "ipython3",
      "version": "3.6.4"
    }
  },
  "nbformat": 4,
  "nbformat_minor": 0
}